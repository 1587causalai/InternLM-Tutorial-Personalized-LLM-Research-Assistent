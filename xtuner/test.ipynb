{
 "cells": [
  {
   "cell_type": "markdown",
   "source": [
    "# xtuner train quick start\n",
    "\n",
    "微调也经常被戏称为是炼丹，就是说你炼丹的时候你得思考好用什么样的材料、用多大的火候、烤多久的时间以及用什么丹炉去烧。这里的丹炉其实我们可以想象为 XTuner ，只要丹炉的质量过得去，炼丹的时候不会炸，一般都是没问题的。但是假如炼丹的材料（就是数据集）本来就是垃圾，那无论怎么炼（微调参数的调整），炼多久（训练的轮数），炼出来的东西还只能且只会是垃圾。只有说用了比较好的材料，那么我们就可以考虑说要炼多久以及用什么办法去炼的问题。因此总的来说，学会如何构建一份高质量的数据集是至关重要的。"
   ],
   "metadata": {
    "collapsed": false
   },
   "id": "ed2e95257a0aeb78"
  },
  {
   "cell_type": "code",
   "execution_count": 3,
   "outputs": [
    {
     "data": {
      "text/plain": "'/root/Personalized-LLM-Research-Assistent/xtuner'"
     },
     "execution_count": 3,
     "metadata": {},
     "output_type": "execute_result"
    }
   ],
   "source": [
    "# pwd\n",
    "# xtuner list-cfg\n",
    "# xtuner copy-cfg internlm2_1_8b_qlora_alpaca_e3 /root/xtuner"
   ],
   "metadata": {
    "collapsed": false,
    "ExecuteTime": {
     "end_time": "2024-06-25T01:25:00.519208Z",
     "start_time": "2024-06-25T01:25:00.518196Z"
    }
   },
   "id": "149b4beb1533bf8e"
  },
  {
   "cell_type": "code",
   "execution_count": null,
   "outputs": [],
   "source": [
    "!xtuner train ./config/internlm2_1_8b_qlora_alpaca_e3_copy.py --work-dir ./train"
   ],
   "metadata": {
    "collapsed": false
   },
   "id": "79f4fbe30f88a641"
  },
  {
   "cell_type": "code",
   "execution_count": null,
   "outputs": [],
   "source": [
    "!xtuner train ./config/internlm2_1_8b_qlora_alpaca_e3_copy.py --work-dir ./train --deepspeed deepspeed_zero2"
   ],
   "metadata": {
    "collapsed": false
   },
   "id": "d1f6b57fdc49d759"
  },
  {
   "cell_type": "code",
   "execution_count": null,
   "outputs": [],
   "source": [
    "!xtuner train ./config/internlm2_1_8b_qlora_alpaca_e3_copy.py --work-dir ./train --deepspeed deepspeed_zero3"
   ],
   "metadata": {
    "collapsed": false
   },
   "id": "aba759429c9037a"
  }
 ],
 "metadata": {
  "kernelspec": {
   "display_name": "xtuner0.1.17",
   "language": "python",
   "name": "xtuner0.1.17"
  },
  "language_info": {
   "codemirror_mode": {
    "name": "ipython",
    "version": 2
   },
   "file_extension": ".py",
   "mimetype": "text/x-python",
   "name": "python",
   "nbconvert_exporter": "python",
   "pygments_lexer": "ipython2",
   "version": "2.7.6"
  }
 },
 "nbformat": 4,
 "nbformat_minor": 5
}
